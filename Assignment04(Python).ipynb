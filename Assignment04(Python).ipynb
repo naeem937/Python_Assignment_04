{
 "cells": [
  {
   "cell_type": "markdown",
   "metadata": {},
   "source": [
    "# Q no 1: Make a list of numbers from 0 to 20 which is divisible by 2 using list comprehension"
   ]
  },
  {
   "cell_type": "code",
   "execution_count": 1,
   "metadata": {},
   "outputs": [
    {
     "name": "stdout",
     "output_type": "stream",
     "text": [
      "Number List :  [0, 1, 2, 3, 4, 5, 6, 7, 8, 9, 10, 11, 12, 13, 14, 15, 16, 17, 18, 19]\n"
     ]
    }
   ],
   "source": [
    "# Initializing Normal List Which Contains No. From 0-20\n",
    "\n",
    "List_of_Numbers = []\n",
    "\n",
    "for i in range(0,20):\n",
    "    List_of_Numbers.append(i)\n",
    "    \n",
    "print(\"Number List : \",List_of_Numbers)"
   ]
  },
  {
   "cell_type": "code",
   "execution_count": 2,
   "metadata": {},
   "outputs": [
    {
     "name": "stdout",
     "output_type": "stream",
     "text": [
      "Number Divisible By 2 :  [0, 2, 4, 6, 8, 10, 12, 14, 16, 18]\n"
     ]
    }
   ],
   "source": [
    "# Using List Comprehension We Create Another List Using Our Number List\n",
    "\n",
    "List_Comp = [element for element in List_of_Numbers if element%2==0]\n",
    "\n",
    "print(\"Number Divisible By 2 : \",List_Comp)"
   ]
  },
  {
   "cell_type": "markdown",
   "metadata": {},
   "source": [
    "# Q no 2 : Find all of the numbers from 1-1000 that are divisible by 7 by making a list using list comprehension and print it"
   ]
  },
  {
   "cell_type": "code",
   "execution_count": null,
   "metadata": {},
   "outputs": [],
   "source": [
    "# Simply Making a List Comprehension of Numbers Which is Divisible by '7'\n",
    "\n",
    "List_Comp = [element for element in range(1,1000) if element%7==0]\n",
    "\n",
    "print(\"Number Divisible By 7 : \\n\",List_Comp)"
   ]
  },
  {
   "cell_type": "markdown",
   "metadata": {},
   "source": [
    "# Q no 3: Write a script that draws a triangle as below:"
   ]
  },
  {
   "cell_type": "raw",
   "metadata": {},
   "source": [
    "*\n",
    "**\n",
    "***\n",
    "****\n",
    "*****\n",
    "******\n",
    "*******\n",
    "********\n",
    "*********\n",
    "**********\n",
    "***********\n",
    "************"
   ]
  },
  {
   "cell_type": "code",
   "execution_count": 3,
   "metadata": {},
   "outputs": [
    {
     "name": "stdout",
     "output_type": "stream",
     "text": [
      "\n",
      "*\n",
      "**\n",
      "***\n",
      "****\n",
      "*****\n",
      "******\n",
      "*******\n",
      "********\n",
      "*********\n",
      "**********\n",
      "***********\n",
      "************\n"
     ]
    }
   ],
   "source": [
    "# Printing Triangle Stars Using Nested For Loop\n",
    "\n",
    "for i in range(0,13):\n",
    "    for j in range(0,i):\n",
    "        print('*', end='')\n",
    "    print(\"\\n\", end='')"
   ]
  },
  {
   "cell_type": "markdown",
   "metadata": {},
   "source": [
    "# Q no 4 : Write a script that draws a geometric shape as below:"
   ]
  },
  {
   "cell_type": "raw",
   "metadata": {},
   "source": [
    "*\n",
    "**\n",
    "***\n",
    "****\n",
    "*****\n",
    "******\n",
    "*******\n",
    "******\n",
    "*****\n",
    "****\n",
    "***\n",
    "**\n",
    "*"
   ]
  },
  {
   "cell_type": "code",
   "execution_count": 4,
   "metadata": {},
   "outputs": [
    {
     "name": "stdout",
     "output_type": "stream",
     "text": [
      "*\n",
      "**\n",
      "***\n",
      "****\n",
      "*****\n",
      "******\n",
      "*******\n",
      "******\n",
      "*****\n",
      "****\n",
      "***\n",
      "**\n",
      "*\n"
     ]
    }
   ],
   "source": [
    "# Printing The Geometric Stars Using Nested Loop & Conditional Statement\n",
    "\n",
    "for i in range(1,14):\n",
    "    \n",
    "    if(i<=int(14/2)):            # Priting Stars in Ascending Order\n",
    "        for j in range(0,i):\n",
    "            print('*', end='')\n",
    "    else:                        # Priting Stars in Descending Order\n",
    "        for j in range(0,14-i):\n",
    "            print('*', end='')\n",
    "    \n",
    "    print(\"\\n\", end='')          # Newline After Inner Loop Ends"
   ]
  },
  {
   "cell_type": "markdown",
   "metadata": {},
   "source": [
    "# Q no :5  A simple Python function to check \n",
    "# whether x is even or odd "
   ]
  },
  {
   "cell_type": "code",
   "execution_count": 5,
   "metadata": {},
   "outputs": [
    {
     "data": {
      "text/plain": [
       "'Number is Even'"
      ]
     },
     "execution_count": 5,
     "metadata": {},
     "output_type": "execute_result"
    }
   ],
   "source": [
    "# Checking Whether The Number is Even or Odd\n",
    "\n",
    "x = 4\n",
    "\n",
    "def Check_Number(number):\n",
    "    if(number%2==0):\n",
    "        return(\"Number is Even\")\n",
    "    else:\n",
    "        return(\"Number is Odd\")\n",
    "    \n",
    "Check_Number(x) # Calling Function"
   ]
  },
  {
   "cell_type": "markdown",
   "metadata": {},
   "source": [
    "# Q no: 6 Define a function that can accept two strings as input and print the string with maximum length in console. If two strings have the same length, then the function should print al l strings line by line.\n",
    "\n",
    "Hints:\n",
    "\n",
    "Use len() function to get the length of a string\n"
   ]
  },
  {
   "cell_type": "code",
   "execution_count": 6,
   "metadata": {},
   "outputs": [
    {
     "name": "stdout",
     "output_type": "stream",
     "text": [
      "Enter String 1 : Muhammad\n",
      "Enter String 2 : Naeem\n"
     ]
    },
    {
     "data": {
      "text/plain": [
       "('Max Length String is :', 'Muhammad')"
      ]
     },
     "execution_count": 6,
     "metadata": {},
     "output_type": "execute_result"
    }
   ],
   "source": [
    "# Checking The String With Max Length \n",
    "\n",
    "S1 = str(input(\"Enter String 1 : \"))\n",
    "S2 = str(input(\"Enter String 2 : \"))\n",
    "\n",
    "def Check_Strings(String1, String2):    \n",
    "    if (len(String1)>len(String2)):\n",
    "        return(\"Max Length String is :\",String1)\n",
    "    elif(len(String1)<len(String2)):\n",
    "        return(\"Max Length String is :\",String2)\n",
    "    else:\n",
    "        print(\"\\nThe String 1 is :\",String1,\"\\nThe String 2 is :\",String2)\n",
    "    \n",
    "Check_Strings(S1,S2)"
   ]
  },
  {
   "cell_type": "markdown",
   "metadata": {},
   "source": [
    "# Q no  7:  Define a function that can accept an integer number as input and print the  \n",
    "It is an even number\" \n",
    "\n",
    "if the number is even,\n",
    "\n",
    "otherwise print \"It is an odd number\".\n",
    "\n",
    "\n",
    "\n",
    "\n",
    "Hints:\n",
    "\n",
    "Use % operator to check if a number is even or odd.\n"
   ]
  },
  {
   "cell_type": "code",
   "execution_count": 7,
   "metadata": {},
   "outputs": [
    {
     "name": "stdout",
     "output_type": "stream",
     "text": [
      "Enter The Number To Check Even/Odd : 7\n"
     ]
    },
    {
     "data": {
      "text/plain": [
       "'Number is Odd'"
      ]
     },
     "execution_count": 7,
     "metadata": {},
     "output_type": "execute_result"
    }
   ],
   "source": [
    "# Checking Even Odd By Taking Input From The User\n",
    "\n",
    "x = int(input(\"Enter The Number To Check Even/Odd : \"))\n",
    "\n",
    "def Check_Number(number):\n",
    "    if(number%2==0):\n",
    "        return(\"Number is Even\")\n",
    "    else:\n",
    "        return(\"Number is Odd\")\n",
    "    \n",
    "Check_Number(x) # Calling Function"
   ]
  }
 ],
 "metadata": {
  "kernelspec": {
   "display_name": "Python 3",
   "language": "python",
   "name": "python3"
  },
  "language_info": {
   "codemirror_mode": {
    "name": "ipython",
    "version": 3
   },
   "file_extension": ".py",
   "mimetype": "text/x-python",
   "name": "python",
   "nbconvert_exporter": "python",
   "pygments_lexer": "ipython3",
   "version": "3.7.3"
  }
 },
 "nbformat": 4,
 "nbformat_minor": 2
}
